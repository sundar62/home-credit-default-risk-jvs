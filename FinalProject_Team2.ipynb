{
  "nbformat": 4,
  "nbformat_minor": 0,
  "metadata": {
    "colab": {
      "provenance": [],
      "toc_visible": true
    },
    "kernelspec": {
      "name": "python3",
      "display_name": "Python 3"
    },
    "language_info": {
      "name": "python"
    }
  },
  "cells": [
    {
      "cell_type": "markdown",
      "source": [
        "# Assignment 7.1: Pitching Your ML Algorithm\n",
        "\n",
        "Find an exciting business problem, find data, and solve the problem with machine learning in Python using the CRISP-DM methodology and algorithms covered in the course:\n",
        "1. Business understanding - What does the business need?\n",
        "2. Data understanding - What data do we have/need? Is it clean?\n",
        "3. Data preparation - How do we organize the data for modeling?\n",
        "4. Modeling - What modeling techniques should we apply?\n",
        "5. Evaluation - Which model best meets the business objectives?\n",
        "6. Deployment - How to get the model in production and ensure it works?\n",
        "\n",
        "Note: it is required that your team use GitHub to host your code, collaborate and manage versions. GitHub helps ensure traceability, allow rollback, and avoid unintended overwrites and loss of code. You can use the integration between Google Colab and GitHub to achieve the goals of the project.\n",
        "\n",
        "Dataset: **Home Credit Default Dataset**\n",
        "\n",
        "**Project Scenario:**\n",
        "Before presenting to the executive decision-making body, there is a code review round and a technical solution review by a technical committee. The committee consists of fellow ML Engineers, Data Engineers, Architects, ML managers, and the Head of Machine Learning.\n",
        "There are three key deliverables for this final team project:\n",
        "Google Colab notebook (ipynb)\n",
        "Business presentation slides (pptx/pdf)\n",
        "Recorded video presentation (mp4)\n",
        "The Colab notebook is for the technical committee, whereas the business brief is targeted to a non-technical executive committee. Both committees will view the slides and video. Please see the following explanation for the requirements on each file\n",
        "\n",
        "\n",
        "**Google Colab Notebook with Python code:**\n",
        "The Google Clab Notebook must be organized like a report where the code blocks are interspersed with text blocks. The text block that appears before the code block must cover the explanations of the approach. The text blocks that follow the output graphs and tables must contain inference, actionable insight, and recommendations. The code blocks themselves must be annotated with comments so they are readable.\n",
        "\n",
        "The notebook must contain the following sections:\n",
        "\n",
        "* Problem statement and justification for the proposed approach.\n",
        "* Data understanding (EDA) - a graphical and non-graphical representation of relationships between the response variable and predictor variables.\n",
        "* Data preparation.\n",
        "* Feature engineering - data pre-processing - missing values, outliers, etc.\n",
        "* Feature Selection - how were the features selected based on the data analysis?\n",
        "* Modeling - selection, comparison, tuning, and analysis - consider ensembles.\n",
        "* Evaluation - performance measures, results, and conclusions.\n",
        "* Discussion and conclusions - address the problem statement and recommendation."
      ],
      "metadata": {
        "id": "47Kc7NhuVW74"
      }
    },
    {
      "cell_type": "markdown",
      "source": [
        "# Problem Statement"
      ],
      "metadata": {
        "id": "l4FRFCfyX1st"
      }
    },
    {
      "cell_type": "code",
      "source": [
        "# @title Justification\n"
      ],
      "metadata": {
        "cellView": "form",
        "id": "4MraK2nGX_q_"
      },
      "execution_count": null,
      "outputs": []
    },
    {
      "cell_type": "code",
      "source": [
        "# @title Deveopment Approach\n"
      ],
      "metadata": {
        "cellView": "form",
        "id": "QasEepK7YDup"
      },
      "execution_count": null,
      "outputs": []
    },
    {
      "cell_type": "markdown",
      "source": [
        "# Data Preparation"
      ],
      "metadata": {
        "id": "MyOONeJmXqMg"
      }
    },
    {
      "cell_type": "code",
      "source": [
        "# @title Imports\n",
        "\n",
        "import pandas as pd"
      ],
      "metadata": {
        "id": "KY9rXXQSYUt3"
      },
      "execution_count": null,
      "outputs": []
    },
    {
      "cell_type": "code",
      "source": [
        "# @title Loading Data\n",
        "\n",
        "# Read and store CSV files\n",
        "train_csv_path = \"application_train.csv\"\n",
        "test_csv_path = \"application_test.csv\"\n",
        "previous_csv_path = \"previous_application.csv\"\n",
        "\n",
        "# Load only the relevant columns from the CSV file\n",
        "columns_to_load = ['SK_ID_CURR', 'NAME_CONTRACT_STATUS', 'NAME_CLIENT_TYPE', 'RATE_DOWN_PAYMENT', 'CNT_PAYMENT']\n",
        "\n",
        "df_train = pd.read_csv(train_csv_path, index_col='SK_ID_CURR') # Dataset used for training the models\n",
        "df_test = pd.read_csv(test_csv_path, index_col='SK_ID_CURR') # Dataset used to test after model creation\n",
        "df_previous_application = pd.read_csv(previous_csv_path, usecols=columns_to_load)"
      ],
      "metadata": {
        "id": "DIEFq2RXYjB7"
      },
      "execution_count": null,
      "outputs": []
    },
    {
      "cell_type": "markdown",
      "source": [
        "# Feature Engineering"
      ],
      "metadata": {
        "id": "MW82S_n2XqBA"
      }
    },
    {
      "cell_type": "markdown",
      "source": [
        "## Cleaning"
      ],
      "metadata": {
        "id": "vpx4ZcTmZIkD"
      }
    },
    {
      "cell_type": "code",
      "source": [
        "le = LabelEncoder()\n",
        "\n",
        "# Get categorical columns\n",
        "categorical_cols_train = df_train.select_dtypes(include=['object', 'category']).columns\n",
        "categorical_cols_test = df_test.select_dtypes(include=['object', 'category']).columns\n",
        "\n",
        "# Drop rows with NaN values\n",
        "df_train.dropna(inplace=True)\n",
        "df_test.dropna(inplace=True)\n",
        "\n",
        "# Apply LabelEncoder on categorical columns\n",
        "for col in set(categorical_cols_train).union(set(categorical_cols_test)):\n",
        "    if col in df_train.columns:\n",
        "        df_train[col] = le.fit_transform(df_train[col])\n",
        "        if col in df_test.columns:\n",
        "            # Detect new categories in test set\n",
        "            new_categories = set(df_test[col]).difference(le.classes_)\n",
        "            # Drop rows with new categories\n",
        "            df_test = df_test.loc[~df_test[col].isin(new_categories)]\n",
        "            # Transform the remaining data\n",
        "            df_test[col] = le.transform(df_test[col])\n"
      ],
      "metadata": {
        "id": "ZLNX2y1yZLgV"
      },
      "execution_count": null,
      "outputs": []
    },
    {
      "cell_type": "code",
      "source": [
        "# @title Cleaning data of null values\n",
        "\n",
        "inferred_dtypes, df_train = clean_df(df_train)\n",
        "inferred_dtypes, df_test = clean_df(df_test)"
      ],
      "metadata": {
        "id": "nzek3FmeZWG5"
      },
      "execution_count": null,
      "outputs": []
    },
    {
      "cell_type": "markdown",
      "source": [
        "# Feature Selection"
      ],
      "metadata": {
        "id": "u8sn7SzNXoIK"
      }
    },
    {
      "cell_type": "markdown",
      "source": [
        "# Modeling"
      ],
      "metadata": {
        "id": "yVs4kYRvXmOG"
      }
    },
    {
      "cell_type": "markdown",
      "source": [
        "# Evaluation"
      ],
      "metadata": {
        "id": "ZGppO-D6XiPj"
      }
    },
    {
      "cell_type": "markdown",
      "source": [
        "# Conclusion"
      ],
      "metadata": {
        "id": "l7UconQ2XcaT"
      }
    }
  ]
}