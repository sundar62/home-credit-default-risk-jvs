{
 "cells": [
  {
   "cell_type": "markdown",
   "metadata": {
    "id": "47Kc7NhuVW74"
   },
   "source": [
    "# Assignment 7.1: Pitching Your ML Algorithm\n",
    "\n",
    "Find an exciting business problem, find data, and solve the problem with machine learning in Python using the CRISP-DM methodology and algorithms covered in the course:\n",
    "1. Business understanding - What does the business need?\n",
    "2. Data understanding - What data do we have/need? Is it clean?\n",
    "3. Data preparation - How do we organize the data for modeling?\n",
    "4. Modeling - What modeling techniques should we apply?\n",
    "5. Evaluation - Which model best meets the business objectives?\n",
    "6. Deployment - How to get the model in production and ensure it works?\n",
    "\n",
    "Note: it is required that your team use GitHub to host your code, collaborate and manage versions. GitHub helps ensure traceability, allow rollback, and avoid unintended overwrites and loss of code. You can use the integration between Google Colab and GitHub to achieve the goals of the project.\n",
    "\n",
    "Dataset: **Home Credit Default Dataset**\n",
    "\n",
    "**Project Scenario:**\n",
    "Before presenting to the executive decision-making body, there is a code review round and a technical solution review by a technical committee. The committee consists of fellow ML Engineers, Data Engineers, Architects, ML managers, and the Head of Machine Learning.\n",
    "There are three key deliverables for this final team project:\n",
    "Google Colab notebook (ipynb)\n",
    "Business presentation slides (pptx/pdf)\n",
    "Recorded video presentation (mp4)\n",
    "The Colab notebook is for the technical committee, whereas the business brief is targeted to a non-technical executive committee. Both committees will view the slides and video. Please see the following explanation for the requirements on each file\n",
    "\n",
    "\n",
    "**Google Colab Notebook with Python code:**\n",
    "The Google Clab Notebook must be organized like a report where the code blocks are interspersed with text blocks. The text block that appears before the code block must cover the explanations of the approach. The text blocks that follow the output graphs and tables must contain inference, actionable insight, and recommendations. The code blocks themselves must be annotated with comments so they are readable.\n",
    "\n",
    "The notebook must contain the following sections:\n",
    "\n",
    "* Problem statement and justification for the proposed approach.\n",
    "* Data understanding (EDA) - a graphical and non-graphical representation of relationships between the response variable and predictor variables.\n",
    "* Data preparation.\n",
    "* Feature engineering - data pre-processing - missing values, outliers, etc.\n",
    "* Feature Selection - how were the features selected based on the data analysis?\n",
    "* Modeling - selection, comparison, tuning, and analysis - consider ensembles.\n",
    "* Evaluation - performance measures, results, and conclusions.\n",
    "* Discussion and conclusions - address the problem statement and recommendation."
   ]
  },
  {
   "cell_type": "markdown",
   "metadata": {
    "id": "l4FRFCfyX1st"
   },
   "source": [
    "# Problem Statement"
   ]
  },
  {
   "cell_type": "code",
   "execution_count": 3,
   "metadata": {
    "cellView": "form",
    "id": "4MraK2nGX_q_"
   },
   "outputs": [],
   "source": [
    "# @title Justification\n"
   ]
  },
  {
   "cell_type": "code",
   "execution_count": 4,
   "metadata": {
    "id": "QasEepK7YDup"
   },
   "outputs": [],
   "source": [
    "# @title Deveopment Approach\n"
   ]
  },
  {
   "cell_type": "markdown",
   "metadata": {
    "id": "MyOONeJmXqMg"
   },
   "source": [
    "# Data Preparation"
   ]
  },
  {
   "cell_type": "code",
   "execution_count": 5,
   "metadata": {
    "id": "KY9rXXQSYUt3"
   },
   "outputs": [],
   "source": [
    "# @title Imports\n",
    "!pip install Cython dataprep pymrmr mrmr_selection --quiet\n",
    "\n",
    "import pandas as pd\n",
    "import numpy as np\n",
    "from sklearn import metrics\n",
    "from sklearn import tree\n",
    "from sklearn.svm import SVC\n",
    "import matplotlib.pyplot as plt\n",
    "from sklearn import metrics\n",
    "from tabulate import tabulate\n",
    "from mrmr import mrmr_classif\n",
    "from dataprep.clean import clean_df\n",
    "from dataprep.eda import create_report\n",
    "from sklearn.preprocessing import LabelEncoder\n",
    "from sklearn.datasets import make_classification\n",
    "from sklearn.model_selection import GridSearchCV\n",
    "from sklearn.model_selection import train_test_split\n",
    "from sklearn.ensemble import GradientBoostingClassifier\n",
    "from sklearn.preprocessing import StandardScaler\n",
    "from sklearn.model_selection import cross_val_score\n",
    "from sklearn.metrics import f1_score\n",
    "from sklearn.decomposition import PCA\n",
    "from sklearn.preprocessing import StandardScaler\n",
    "from sklearn.pipeline import make_pipeline\n",
    "from sklearn.feature_selection import SelectKBest\n",
    "from sklearn.ensemble import RandomForestClassifier\n",
    "from sklearn.model_selection import GridSearchCV"
   ]
  },
  {
   "cell_type": "code",
   "execution_count": 6,
   "metadata": {
    "id": "DIEFq2RXYjB7"
   },
   "outputs": [],
   "source": [
    "# @title Loading Data\n",
    "\n",
    "# Read and store CSV files\n",
    "train_csv_path = \"application_train.csv\"\n",
    "test_csv_path = \"application_test.csv\"\n",
    "bureau_csv = \"bureau.csv\"\n",
    "bureau_balance_csv = \"bureau_balance.csv\"\n",
    "cash_balance_csv = \"POS_CASH_balance.csv\"\n",
    "credit_csv = \"credit_card_balance.csv\"\n",
    "installment_csv = \"installments_payments.csv\"\n",
    "\n",
    "# Load only the relevant columns from the CSV file\n",
    "columns_to_load = ['SK_ID_CURR', 'NAME_CONTRACT_STATUS', 'NAME_CLIENT_TYPE', 'RATE_DOWN_PAYMENT', 'CNT_PAYMENT']\n",
    "\n",
    "df_train = pd.read_csv(train_csv_path, index_col='SK_ID_CURR') # Dataset used for training the models\n",
    "df_test = pd.read_csv(test_csv_path, index_col='SK_ID_CURR') # Dataset used to test after model creation\n",
    "\n",
    "df_bureau = pd.read_csv(bureau_csv, index_col='SK_ID_CURR', usecols=['DAYS_CREDIT', 'AMT_CREDIT_SUM', 'AMT_CREDIT_SUM_DEBT', 'AMT_CREDIT_SUM_OVERDUE'])\n",
    "df_bureau_balance = pd.read_csv(bureau_balance_csv, usecols=['SK_ID_BUREAU', 'STATUS']) \n",
    "\n",
    "df_cash_balance = pd.read_csv(cash_balance_csv, usecols=['SK_ID_PREV', 'MONTHS_BALANCE', 'NAME_CONTRACT_STATUS', 'CNT_INSTALMENT', 'CNT_INSTALMENT_FUTURE', 'SK_DPD', 'SK_DPD_DEF'])\n",
    "df_credit = pd.read_csv(credit_csv, index_col='SK_ID_CURR', usecols=['AMT_BALANCE', 'AMT_CREDIT_LIMIT_ACTUAL', 'AMT_DRAWINGS_ATM_CURRENT','AMT_DRAWINGS_CURRENT', 'AMT_TOTAL_RECEIVABLE', 'CNT_INSTALMENT_MATURE_CUM'])\n",
    "\n",
    "df_installments_payments = pd.read_csv(installment_csv, usecols=['SK_ID_PREV', 'NUM_INSTALMENT_VERSION', 'NUM_INSTALMENT_NUMBER', 'DAYS_INSTALMENT', 'DAYS_ENTRY_PAYMENT', 'AMT_INSTALMENT', 'AMT_PAYMENT'])"
   ]
  },
  {
   "cell_type": "code",
   "execution_count": null,
   "metadata": {},
   "outputs": [],
   "source": [
    "# @title Merging Data\n",
    "\n",
    "# List of all dataframes to merge\n",
    "df_train = [df_train, df_bureau, df_credit, df_bureau_balance, df_cash_balance, df_installments_payments]\n",
    "\n",
    "# Use reduce to merge all dataframes\n",
    "from functools import reduce\n",
    "\n",
    "df_train = reduce(lambda left,right: pd.merge(left,right,on='SK_ID_CURR', how='outer'), dfs)\n",
    "\n",
    "df_train.head()"
   ]
  },
  {
   "cell_type": "markdown",
   "metadata": {
    "id": "MW82S_n2XqBA"
   },
   "source": [
    "# Feature Engineering"
   ]
  },
  {
   "cell_type": "markdown",
   "metadata": {
    "id": "vpx4ZcTmZIkD"
   },
   "source": [
    "## Cleaning"
   ]
  },
  {
   "cell_type": "code",
   "execution_count": 7,
   "metadata": {
    "id": "ZLNX2y1yZLgV"
   },
   "outputs": [],
   "source": [
    "le = LabelEncoder()\n",
    "\n",
    "# Get categorical columns\n",
    "categorical_cols_train = df_train.select_dtypes(include=['object', 'category']).columns\n",
    "categorical_cols_test = df_test.select_dtypes(include=['object', 'category']).columns\n",
    "\n",
    "# Drop rows with NaN values\n",
    "df_train.dropna(inplace=True)\n",
    "df_test.dropna(inplace=True)\n",
    "\n",
    "# Apply LabelEncoder on categorical columns\n",
    "for col in set(categorical_cols_train).union(set(categorical_cols_test)):\n",
    "    if col in df_train.columns:\n",
    "        df_train[col] = le.fit_transform(df_train[col])\n",
    "        if col in df_test.columns:\n",
    "            # Detect new categories in test set\n",
    "            new_categories = set(df_test[col]).difference(le.classes_)\n",
    "            # Drop rows with new categories\n",
    "            df_test = df_test.loc[~df_test[col].isin(new_categories)]\n",
    "            # Transform the remaining data\n",
    "            df_test[col] = le.transform(df_test[col])\n"
   ]
  },
  {
   "cell_type": "code",
   "execution_count": 8,
   "metadata": {
    "colab": {
     "base_uri": "https://localhost:8080/"
    },
    "id": "nzek3FmeZWG5",
    "outputId": "42826bc8-2bdf-4bf2-97bb-2c8c434fa287"
   },
   "outputs": [
    {
     "name": "stdout",
     "output_type": "stream",
     "text": [
      "Data Type Detection Report:\n",
      "\tThese data types are supported by DataPrep to clean: ['coordinate']\n",
      "Column Headers Cleaning Report:\n",
      "\t121 values cleaned (100.0%)\n",
      "Downcast Memory Report:\n",
      "\tMemory reducted from 9436394 to 3509616. New size: (37.19%)\n",
      "Data Type Detection Report:\n",
      "\tThese data types are supported by DataPrep to clean: ['coordinate']\n",
      "Column Headers Cleaning Report:\n",
      "\t120 values cleaned (100.0%)\n",
      "Downcast Memory Report:\n",
      "\tMemory reducted from 1889856 to 712170. New size: (37.68%)\n"
     ]
    }
   ],
   "source": [
    "# @title Cleaning data of null values\n",
    "\n",
    "inferred_dtypes, df_train = clean_df(df_train)\n",
    "inferred_dtypes, df_test = clean_df(df_test)"
   ]
  },
  {
   "cell_type": "code",
   "execution_count": null,
   "metadata": {
    "colab": {
     "base_uri": "https://localhost:8080/",
     "height": 1000
    },
    "id": "k3t9NS2qbKMO",
    "outputId": "dcd322dc-0c24-4c38-f0d0-bb9b8420a1fb"
   },
   "outputs": [],
   "source": [
    "# @title Exploration - Post Clean\n",
    "create_report(df_train)"
   ]
  },
  {
   "cell_type": "code",
   "execution_count": 10,
   "metadata": {
    "id": "MMNEruOGz1cO"
   },
   "outputs": [],
   "source": [
    "# Split the train dataset into features and target\n",
    "X = df_train.drop('target', axis=1)  # Features excluding 'TARGET'\n",
    "y = df_train['target']  # Target variable"
   ]
  },
  {
   "cell_type": "code",
   "execution_count": 11,
   "metadata": {
    "colab": {
     "base_uri": "https://localhost:8080/"
    },
    "id": "0Wh8VBCHbyKx",
    "outputId": "327b675d-334d-4c93-f53f-c42b0594be3e"
   },
   "outputs": [
    {
     "name": "stderr",
     "output_type": "stream",
     "text": [
      "100%|██████████| 100/100 [00:16<00:00,  5.96it/s]\n"
     ]
    }
   ],
   "source": [
    "# @title Select top 100 features\n",
    "\n",
    "# create some data\n",
    "X, y = make_classification(n_samples=len(X), n_features = X.shape[1])\n",
    "X = pd.DataFrame(X)\n",
    "y = pd.Series(y)\n",
    "\n",
    "# use mrmr classification\n",
    "selected_features = mrmr_classif(X, y, K = 100) # reduce features to 100"
   ]
  },
  {
   "cell_type": "code",
   "execution_count": 12,
   "metadata": {
    "colab": {
     "base_uri": "https://localhost:8080/"
    },
    "id": "2TPYo4mLz-If",
    "outputId": "c1b8ac8d-2273-4fa0-9015-b393211df19c"
   },
   "outputs": [
    {
     "data": {
      "text/plain": [
       "(8602, 100)"
      ]
     },
     "execution_count": 12,
     "metadata": {},
     "output_type": "execute_result"
    }
   ],
   "source": [
    "# @title Top Features move to dataframe\n",
    "column_names = X.columns.tolist()\n",
    "# Slice the original dataframe using the selected features indices\n",
    "X_selected = X.iloc[:, selected_features]\n",
    "\n",
    "# Assign the column names to the selected features\n",
    "X_selected.columns = [column_names[idx] for idx in selected_features]\n",
    "\n",
    "X = X_selected\n",
    "X.shape"
   ]
  },
  {
   "cell_type": "code",
   "execution_count": 13,
   "metadata": {
    "id": "iGZO2mx10D3g"
   },
   "outputs": [],
   "source": [
    " # @title Standardizing the features\n",
    "scaler = StandardScaler()\n",
    "X_scaled = scaler.fit_transform(X)"
   ]
  },
  {
   "cell_type": "code",
   "execution_count": 14,
   "metadata": {
    "id": "5Oh9qIuu0Glf"
   },
   "outputs": [],
   "source": [
    "# @title Attribute Transformation - PCA\n",
    "\n",
    "pca = PCA(n_components=100)\n",
    "X_pca = pca.fit_transform(X_scaled)"
   ]
  },
  {
   "cell_type": "code",
   "execution_count": 15,
   "metadata": {
    "colab": {
     "base_uri": "https://localhost:8080/",
     "height": 449
    },
    "id": "xYmv2fLr0JE6",
    "outputId": "0c60baa9-bbbb-4481-ef7a-742e45c48911"
   },
   "outputs": [
    {
     "data": {
      "image/png": "[encoded data removed]",
      "text/plain": [
       "<Figure size 640x480 with 1 Axes>"
      ]
     },
     "metadata": {},
     "output_type": "display_data"
    }
   ],
   "source": [
    "# Number of components\n",
    "plt.plot(np.cumsum(pca.explained_variance_ratio_))\n",
    "plt.xlabel(\"Number of Components\")\n",
    "plt.ylabel(\"Cumulative Explained Variance\")\n",
    "plt.show()"
   ]
  },
  {
   "cell_type": "code",
   "execution_count": 16,
   "metadata": {
    "colab": {
     "base_uri": "https://localhost:8080/"
    },
    "id": "EtLvyahq0LA0",
    "outputId": "80cbab8b-2816-4a48-e47c-2d7baade4813"
   },
   "outputs": [
    {
     "data": {
      "text/plain": [
       "92"
      ]
     },
     "execution_count": 16,
     "metadata": {},
     "output_type": "execute_result"
    }
   ],
   "source": [
    "# @title Components to capture 95% of variance\n",
    "cumulative_variance = np.cumsum(pca.explained_variance_ratio_)\n",
    "num_components = np.where(cumulative_variance > 0.95)[0][0] + 1\n",
    "num_components"
   ]
  },
  {
   "cell_type": "code",
   "execution_count": 32,
   "metadata": {
    "colab": {
     "base_uri": "https://localhost:8080/",
     "height": 297
    },
    "id": "hJ_0mMfw0NjR",
    "outputId": "693dc60f-b88f-4d0b-998c-7d9e19b064cb"
   },
   "outputs": [
    {
     "data": {
      "text/html": [
       "\n",
       "  <div id=\"df-06ef5fa3-80eb-4132-a0ad-a93809f06172\">\n",
       "    <div class=\"colab-df-container\">\n",
       "      <div>\n",
       "<style scoped>\n",
       "    .dataframe tbody tr th:only-of-type {\n",
       "        vertical-align: middle;\n",
       "    }\n",
       "\n",
       "    .dataframe tbody tr th {\n",
       "        vertical-align: top;\n",
       "    }\n",
       "\n",
       "    .dataframe thead th {\n",
       "        text-align: right;\n",
       "    }\n",
       "</style>\n",
       "<table border=\"1\" class=\"dataframe\">\n",
       "  <thead>\n",
       "    <tr style=\"text-align: right;\">\n",
       "      <th></th>\n",
       "      <th>0</th>\n",
       "      <th>1</th>\n",
       "      <th>2</th>\n",
       "      <th>3</th>\n",
       "      <th>4</th>\n",
       "      <th>5</th>\n",
       "      <th>6</th>\n",
       "      <th>7</th>\n",
       "      <th>8</th>\n",
       "      <th>9</th>\n",
       "      <th>...</th>\n",
       "      <th>82</th>\n",
       "      <th>83</th>\n",
       "      <th>84</th>\n",
       "      <th>85</th>\n",
       "      <th>86</th>\n",
       "      <th>87</th>\n",
       "      <th>88</th>\n",
       "      <th>89</th>\n",
       "      <th>90</th>\n",
       "      <th>91</th>\n",
       "    </tr>\n",
       "  </thead>\n",
       "  <tbody>\n",
       "    <tr>\n",
       "      <th>0</th>\n",
       "      <td>1.148411</td>\n",
       "      <td>-0.195144</td>\n",
       "      <td>-0.093111</td>\n",
       "      <td>0.104902</td>\n",
       "      <td>0.961217</td>\n",
       "      <td>0.615446</td>\n",
       "      <td>-0.833336</td>\n",
       "      <td>1.005289</td>\n",
       "      <td>-0.301517</td>\n",
       "      <td>0.842960</td>\n",
       "      <td>...</td>\n",
       "      <td>-0.831297</td>\n",
       "      <td>0.018729</td>\n",
       "      <td>-0.343682</td>\n",
       "      <td>0.776711</td>\n",
       "      <td>-0.419022</td>\n",
       "      <td>0.510483</td>\n",
       "      <td>-0.161897</td>\n",
       "      <td>0.265200</td>\n",
       "      <td>0.933629</td>\n",
       "      <td>-1.350029</td>\n",
       "    </tr>\n",
       "    <tr>\n",
       "      <th>1</th>\n",
       "      <td>1.205812</td>\n",
       "      <td>-0.384397</td>\n",
       "      <td>-0.674888</td>\n",
       "      <td>0.179159</td>\n",
       "      <td>-0.899063</td>\n",
       "      <td>-0.316064</td>\n",
       "      <td>-0.736846</td>\n",
       "      <td>-0.051679</td>\n",
       "      <td>-1.017587</td>\n",
       "      <td>-0.584844</td>\n",
       "      <td>...</td>\n",
       "      <td>0.564430</td>\n",
       "      <td>-1.394974</td>\n",
       "      <td>-0.560999</td>\n",
       "      <td>-0.498520</td>\n",
       "      <td>-0.015510</td>\n",
       "      <td>0.130763</td>\n",
       "      <td>0.948379</td>\n",
       "      <td>-0.717553</td>\n",
       "      <td>-1.027318</td>\n",
       "      <td>0.373437</td>\n",
       "    </tr>\n",
       "    <tr>\n",
       "      <th>2</th>\n",
       "      <td>1.165805</td>\n",
       "      <td>0.705697</td>\n",
       "      <td>-0.274396</td>\n",
       "      <td>0.883508</td>\n",
       "      <td>-0.386280</td>\n",
       "      <td>-1.390634</td>\n",
       "      <td>1.632703</td>\n",
       "      <td>2.362548</td>\n",
       "      <td>0.007490</td>\n",
       "      <td>1.282482</td>\n",
       "      <td>...</td>\n",
       "      <td>0.593648</td>\n",
       "      <td>0.887409</td>\n",
       "      <td>1.036288</td>\n",
       "      <td>-0.580132</td>\n",
       "      <td>-0.115231</td>\n",
       "      <td>-0.024404</td>\n",
       "      <td>-1.435164</td>\n",
       "      <td>-1.073039</td>\n",
       "      <td>-0.935007</td>\n",
       "      <td>0.096948</td>\n",
       "    </tr>\n",
       "    <tr>\n",
       "      <th>3</th>\n",
       "      <td>-2.551965</td>\n",
       "      <td>0.031724</td>\n",
       "      <td>-4.199640</td>\n",
       "      <td>-0.899062</td>\n",
       "      <td>0.922358</td>\n",
       "      <td>-2.880160</td>\n",
       "      <td>-1.037567</td>\n",
       "      <td>-0.780708</td>\n",
       "      <td>0.038122</td>\n",
       "      <td>3.266337</td>\n",
       "      <td>...</td>\n",
       "      <td>-0.427880</td>\n",
       "      <td>-0.278607</td>\n",
       "      <td>-1.305962</td>\n",
       "      <td>0.549207</td>\n",
       "      <td>0.487848</td>\n",
       "      <td>-1.028007</td>\n",
       "      <td>0.433484</td>\n",
       "      <td>1.036984</td>\n",
       "      <td>-1.235675</td>\n",
       "      <td>-1.240135</td>\n",
       "    </tr>\n",
       "    <tr>\n",
       "      <th>4</th>\n",
       "      <td>-1.524090</td>\n",
       "      <td>0.263642</td>\n",
       "      <td>-1.093565</td>\n",
       "      <td>-1.965289</td>\n",
       "      <td>1.331823</td>\n",
       "      <td>-1.082097</td>\n",
       "      <td>0.464564</td>\n",
       "      <td>0.180145</td>\n",
       "      <td>2.277263</td>\n",
       "      <td>-1.765642</td>\n",
       "      <td>...</td>\n",
       "      <td>1.287958</td>\n",
       "      <td>0.615605</td>\n",
       "      <td>0.302502</td>\n",
       "      <td>-0.517090</td>\n",
       "      <td>1.491166</td>\n",
       "      <td>-2.806668</td>\n",
       "      <td>1.832243</td>\n",
       "      <td>-0.215477</td>\n",
       "      <td>-1.528565</td>\n",
       "      <td>0.617712</td>\n",
       "    </tr>\n",
       "  </tbody>\n",
       "</table>\n",
       "<p>5 rows × 92 columns</p>\n",
       "</div>\n",
       "      <button class=\"colab-df-convert\" onclick=\"convertToInteractive('df-06ef5fa3-80eb-4132-a0ad-a93809f06172')\"\n",
       "              title=\"Convert this dataframe to an interactive table.\"\n",
       "              style=\"display:none;\">\n",
       "        \n",
       "  <svg xmlns=\"http://www.w3.org/2000/svg\" height=\"24px\"viewBox=\"0 0 24 24\"\n",
       "       width=\"24px\">\n",
       "    <path d=\"M0 0h24v24H0V0z\" fill=\"none\"/>\n",
       "    <path d=\"M18.56 5.44l.94 2.06.94-2.06 2.06-.94-2.06-.94-.94-2.06-.94 2.06-2.06.94zm-11 1L8.5 8.5l.94-2.06 2.06-.94-2.06-.94L8.5 2.5l-.94 2.06-2.06.94zm10 10l.94 2.06.94-2.06 2.06-.94-2.06-.94-.94-2.06-.94 2.06-2.06.94z\"/><path d=\"M17.41 7.96l-1.37-1.37c-.4-.4-.92-.59-1.43-.59-.52 0-1.04.2-1.43.59L10.3 9.45l-7.72 7.72c-.78.78-.78 2.05 0 2.83L4 21.41c.39.39.9.59 1.41.59.51 0 1.02-.2 1.41-.59l7.78-7.78 2.81-2.81c.8-.78.8-2.07 0-2.86zM5.41 20L4 18.59l7.72-7.72 1.47 1.35L5.41 20z\"/>\n",
       "  </svg>\n",
       "      </button>\n",
       "      \n",
       "  <style>\n",
       "    .colab-df-container {\n",
       "      display:flex;\n",
       "      flex-wrap:wrap;\n",
       "      gap: 12px;\n",
       "    }\n",
       "\n",
       "    .colab-df-convert {\n",
       "      background-color: #E8F0FE;\n",
       "      border: none;\n",
       "      border-radius: 50%;\n",
       "      cursor: pointer;\n",
       "      display: none;\n",
       "      fill: #1967D2;\n",
       "      height: 32px;\n",
       "      padding: 0 0 0 0;\n",
       "      width: 32px;\n",
       "    }\n",
       "\n",
       "    .colab-df-convert:hover {\n",
       "      background-color: #E2EBFA;\n",
       "      box-shadow: 0px 1px 2px rgba(60, 64, 67, 0.3), 0px 1px 3px 1px rgba(60, 64, 67, 0.15);\n",
       "      fill: #174EA6;\n",
       "    }\n",
       "\n",
       "    [theme=dark] .colab-df-convert {\n",
       "      background-color: #3B4455;\n",
       "      fill: #D2E3FC;\n",
       "    }\n",
       "\n",
       "    [theme=dark] .colab-df-convert:hover {\n",
       "      background-color: #434B5C;\n",
       "      box-shadow: 0px 1px 3px 1px rgba(0, 0, 0, 0.15);\n",
       "      filter: drop-shadow(0px 1px 2px rgba(0, 0, 0, 0.3));\n",
       "      fill: #FFFFFF;\n",
       "    }\n",
       "  </style>\n",
       "\n",
       "      <script>\n",
       "        const buttonEl =\n",
       "          document.querySelector('#df-06ef5fa3-80eb-4132-a0ad-a93809f06172 button.colab-df-convert');\n",
       "        buttonEl.style.display =\n",
       "          google.colab.kernel.accessAllowed ? 'block' : 'none';\n",
       "\n",
       "        async function convertToInteractive(key) {\n",
       "          const element = document.querySelector('#df-06ef5fa3-80eb-4132-a0ad-a93809f06172');\n",
       "          const dataTable =\n",
       "            await google.colab.kernel.invokeFunction('convertToInteractive',\n",
       "                                                     [key], {});\n",
       "          if (!dataTable) return;\n",
       "\n",
       "          const docLinkHtml = 'Like what you see? Visit the ' +\n",
       "            '<a target=\"_blank\" href=https://colab.research.google.com/notebooks/data_table.ipynb>data table notebook</a>'\n",
       "            + ' to learn more about interactive tables.';\n",
       "          element.innerHTML = '';\n",
       "          dataTable['output_type'] = 'display_data';\n",
       "          await google.colab.output.renderOutput(dataTable, element);\n",
       "          const docLink = document.createElement('div');\n",
       "          docLink.innerHTML = docLinkHtml;\n",
       "          element.appendChild(docLink);\n",
       "        }\n",
       "      </script>\n",
       "    </div>\n",
       "  </div>\n",
       "  "
      ],
      "text/plain": [
       "         0         1         2         3         4         5         6   \\\n",
       "0  1.148411 -0.195144 -0.093111  0.104902  0.961217  0.615446 -0.833336   \n",
       "1  1.205812 -0.384397 -0.674888  0.179159 -0.899063 -0.316064 -0.736846   \n",
       "2  1.165805  0.705697 -0.274396  0.883508 -0.386280 -1.390634  1.632703   \n",
       "3 -2.551965  0.031724 -4.199640 -0.899062  0.922358 -2.880160 -1.037567   \n",
       "4 -1.524090  0.263642 -1.093565 -1.965289  1.331823 -1.082097  0.464564   \n",
       "\n",
       "         7         8         9   ...        82        83        84        85  \\\n",
       "0  1.005289 -0.301517  0.842960  ... -0.831297  0.018729 -0.343682  0.776711   \n",
       "1 -0.051679 -1.017587 -0.584844  ...  0.564430 -1.394974 -0.560999 -0.498520   \n",
       "2  2.362548  0.007490  1.282482  ...  0.593648  0.887409  1.036288 -0.580132   \n",
       "3 -0.780708  0.038122  3.266337  ... -0.427880 -0.278607 -1.305962  0.549207   \n",
       "4  0.180145  2.277263 -1.765642  ...  1.287958  0.615605  0.302502 -0.517090   \n",
       "\n",
       "         86        87        88        89        90        91  \n",
       "0 -0.419022  0.510483 -0.161897  0.265200  0.933629 -1.350029  \n",
       "1 -0.015510  0.130763  0.948379 -0.717553 -1.027318  0.373437  \n",
       "2 -0.115231 -0.024404 -1.435164 -1.073039 -0.935007  0.096948  \n",
       "3  0.487848 -1.028007  0.433484  1.036984 -1.235675 -1.240135  \n",
       "4  1.491166 -2.806668  1.832243 -0.215477 -1.528565  0.617712  \n",
       "\n",
       "[5 rows x 92 columns]"
      ]
     },
     "execution_count": 32,
     "metadata": {},
     "output_type": "execute_result"
    }
   ],
   "source": [
    "# Transform the data with selected number of components\n",
    "pca = PCA(n_components=num_components)\n",
    "X_pca = pca.fit_transform(X_scaled)\n",
    "X_pca = pd.DataFrame(X_pca)\n",
    "\n",
    "# Now you can use pandas methods on df_pca\n",
    "X_pca.head()"
   ]
  },
  {
   "cell_type": "markdown",
   "metadata": {
    "id": "u8sn7SzNXoIK"
   },
   "source": [
    "# Feature Selection"
   ]
  },
  {
   "cell_type": "code",
   "execution_count": 33,
   "metadata": {
    "id": "3zkRQoMdaqk4"
   },
   "outputs": [],
   "source": [
    "# Split the train dataset into features and target\n",
    "X = df_train.drop('target', axis=1)  # Features excluding 'TARGET'\n",
    "y = df_train['target']  # Target variable\n",
    "\n",
    "X_train, X_test, y_train, y_test = train_test_split(X_pca, y, test_size=0.3, random_state=1) # 70% training and 30% test"
   ]
  },
  {
   "cell_type": "markdown",
   "metadata": {
    "id": "yVs4kYRvXmOG"
   },
   "source": [
    "# Modeling"
   ]
  },
  {
   "cell_type": "code",
   "execution_count": 34,
   "metadata": {
    "colab": {
     "base_uri": "https://localhost:8080/",
     "height": 375
    },
    "id": "Y0NtLF5xzXSr",
    "outputId": "e8a07308-0026-4e00-9f3c-9f495502d950"
   },
   "outputs": [
    {
     "ename": "KeyboardInterrupt",
     "evalue": "ignored",
     "output_type": "error",
     "traceback": [
      "\u001b[0;31m---------------------------------------------------------------------------\u001b[0m",
      "\u001b[0;31mKeyboardInterrupt\u001b[0m                         Traceback (most recent call last)",
      "\u001b[0;32m<ipython-input-34-a043e39d5065>\u001b[0m in \u001b[0;36m<cell line: 11>\u001b[0;34m()\u001b[0m\n\u001b[1;32m      9\u001b[0m \u001b[0;34m\u001b[0m\u001b[0m\n\u001b[1;32m     10\u001b[0m \u001b[0mgrid_search\u001b[0m \u001b[0;34m=\u001b[0m \u001b[0mGridSearchCV\u001b[0m\u001b[0;34m(\u001b[0m\u001b[0mestimator\u001b[0m\u001b[0;34m=\u001b[0m\u001b[0mgbc\u001b[0m\u001b[0;34m,\u001b[0m \u001b[0mparam_grid\u001b[0m\u001b[0;34m=\u001b[0m\u001b[0mparam_grid\u001b[0m\u001b[0;34m,\u001b[0m \u001b[0mcv\u001b[0m\u001b[0;34m=\u001b[0m\u001b[0;36m3\u001b[0m\u001b[0;34m,\u001b[0m \u001b[0mn_jobs\u001b[0m\u001b[0;34m=\u001b[0m\u001b[0;34m-\u001b[0m\u001b[0;36m1\u001b[0m\u001b[0;34m)\u001b[0m\u001b[0;34m\u001b[0m\u001b[0;34m\u001b[0m\u001b[0m\n\u001b[0;32m---> 11\u001b[0;31m \u001b[0mgrid_search\u001b[0m\u001b[0;34m.\u001b[0m\u001b[0mfit\u001b[0m\u001b[0;34m(\u001b[0m\u001b[0mX_train\u001b[0m\u001b[0;34m,\u001b[0m \u001b[0my_train\u001b[0m\u001b[0;34m)\u001b[0m\u001b[0;34m\u001b[0m\u001b[0;34m\u001b[0m\u001b[0m\n\u001b[0m\u001b[1;32m     12\u001b[0m \u001b[0mbest_params\u001b[0m \u001b[0;34m=\u001b[0m \u001b[0mgrid_search\u001b[0m\u001b[0;34m.\u001b[0m\u001b[0mbest_params_\u001b[0m\u001b[0;34m\u001b[0m\u001b[0;34m\u001b[0m\u001b[0m\n\u001b[1;32m     13\u001b[0m \u001b[0mprint\u001b[0m\u001b[0;34m(\u001b[0m\u001b[0;34m\"Best Parameters:\"\u001b[0m\u001b[0;34m,\u001b[0m \u001b[0mbest_params\u001b[0m\u001b[0;34m)\u001b[0m\u001b[0;34m\u001b[0m\u001b[0;34m\u001b[0m\u001b[0m\n",
      "\u001b[0;32m/usr/local/lib/python3.10/dist-packages/sklearn/model_selection/_search.py\u001b[0m in \u001b[0;36mfit\u001b[0;34m(self, X, y, groups, **fit_params)\u001b[0m\n\u001b[1;32m    872\u001b[0m                 \u001b[0;32mreturn\u001b[0m \u001b[0mresults\u001b[0m\u001b[0;34m\u001b[0m\u001b[0;34m\u001b[0m\u001b[0m\n\u001b[1;32m    873\u001b[0m \u001b[0;34m\u001b[0m\u001b[0m\n\u001b[0;32m--> 874\u001b[0;31m             \u001b[0mself\u001b[0m\u001b[0;34m.\u001b[0m\u001b[0m_run_search\u001b[0m\u001b[0;34m(\u001b[0m\u001b[0mevaluate_candidates\u001b[0m\u001b[0;34m)\u001b[0m\u001b[0;34m\u001b[0m\u001b[0;34m\u001b[0m\u001b[0m\n\u001b[0m\u001b[1;32m    875\u001b[0m \u001b[0;34m\u001b[0m\u001b[0m\n\u001b[1;32m    876\u001b[0m             \u001b[0;31m# multimetric is determined here because in the case of a callable\u001b[0m\u001b[0;34m\u001b[0m\u001b[0;34m\u001b[0m\u001b[0m\n",
      "\u001b[0;32m/usr/local/lib/python3.10/dist-packages/sklearn/model_selection/_search.py\u001b[0m in \u001b[0;36m_run_search\u001b[0;34m(self, evaluate_candidates)\u001b[0m\n\u001b[1;32m   1386\u001b[0m     \u001b[0;32mdef\u001b[0m \u001b[0m_run_search\u001b[0m\u001b[0;34m(\u001b[0m\u001b[0mself\u001b[0m\u001b[0;34m,\u001b[0m \u001b[0mevaluate_candidates\u001b[0m\u001b[0;34m)\u001b[0m\u001b[0;34m:\u001b[0m\u001b[0;34m\u001b[0m\u001b[0;34m\u001b[0m\u001b[0m\n\u001b[1;32m   1387\u001b[0m         \u001b[0;34m\"\"\"Search all candidates in param_grid\"\"\"\u001b[0m\u001b[0;34m\u001b[0m\u001b[0;34m\u001b[0m\u001b[0m\n\u001b[0;32m-> 1388\u001b[0;31m         \u001b[0mevaluate_candidates\u001b[0m\u001b[0;34m(\u001b[0m\u001b[0mParameterGrid\u001b[0m\u001b[0;34m(\u001b[0m\u001b[0mself\u001b[0m\u001b[0;34m.\u001b[0m\u001b[0mparam_grid\u001b[0m\u001b[0;34m)\u001b[0m\u001b[0;34m)\u001b[0m\u001b[0;34m\u001b[0m\u001b[0;34m\u001b[0m\u001b[0m\n\u001b[0m\u001b[1;32m   1389\u001b[0m \u001b[0;34m\u001b[0m\u001b[0m\n\u001b[1;32m   1390\u001b[0m \u001b[0;34m\u001b[0m\u001b[0m\n",
      "\u001b[0;32m/usr/local/lib/python3.10/dist-packages/sklearn/model_selection/_search.py\u001b[0m in \u001b[0;36mevaluate_candidates\u001b[0;34m(candidate_params, cv, more_results)\u001b[0m\n\u001b[1;32m    819\u001b[0m                     )\n\u001b[1;32m    820\u001b[0m \u001b[0;34m\u001b[0m\u001b[0m\n\u001b[0;32m--> 821\u001b[0;31m                 out = parallel(\n\u001b[0m\u001b[1;32m    822\u001b[0m                     delayed(_fit_and_score)(\n\u001b[1;32m    823\u001b[0m                         \u001b[0mclone\u001b[0m\u001b[0;34m(\u001b[0m\u001b[0mbase_estimator\u001b[0m\u001b[0;34m)\u001b[0m\u001b[0;34m,\u001b[0m\u001b[0;34m\u001b[0m\u001b[0;34m\u001b[0m\u001b[0m\n",
      "\u001b[0;32m/usr/local/lib/python3.10/dist-packages/sklearn/utils/parallel.py\u001b[0m in \u001b[0;36m__call__\u001b[0;34m(self, iterable)\u001b[0m\n\u001b[1;32m     61\u001b[0m             \u001b[0;32mfor\u001b[0m \u001b[0mdelayed_func\u001b[0m\u001b[0;34m,\u001b[0m \u001b[0margs\u001b[0m\u001b[0;34m,\u001b[0m \u001b[0mkwargs\u001b[0m \u001b[0;32min\u001b[0m \u001b[0miterable\u001b[0m\u001b[0;34m\u001b[0m\u001b[0;34m\u001b[0m\u001b[0m\n\u001b[1;32m     62\u001b[0m         )\n\u001b[0;32m---> 63\u001b[0;31m         \u001b[0;32mreturn\u001b[0m \u001b[0msuper\u001b[0m\u001b[0;34m(\u001b[0m\u001b[0;34m)\u001b[0m\u001b[0;34m.\u001b[0m\u001b[0m__call__\u001b[0m\u001b[0;34m(\u001b[0m\u001b[0miterable_with_config\u001b[0m\u001b[0;34m)\u001b[0m\u001b[0;34m\u001b[0m\u001b[0;34m\u001b[0m\u001b[0m\n\u001b[0m\u001b[1;32m     64\u001b[0m \u001b[0;34m\u001b[0m\u001b[0m\n\u001b[1;32m     65\u001b[0m \u001b[0;34m\u001b[0m\u001b[0m\n",
      "\u001b[0;32m/usr/local/lib/python3.10/dist-packages/joblib/parallel.py\u001b[0m in \u001b[0;36m__call__\u001b[0;34m(self, iterable)\u001b[0m\n\u001b[1;32m   1096\u001b[0m \u001b[0;34m\u001b[0m\u001b[0m\n\u001b[1;32m   1097\u001b[0m             \u001b[0;32mwith\u001b[0m \u001b[0mself\u001b[0m\u001b[0;34m.\u001b[0m\u001b[0m_backend\u001b[0m\u001b[0;34m.\u001b[0m\u001b[0mretrieval_context\u001b[0m\u001b[0;34m(\u001b[0m\u001b[0;34m)\u001b[0m\u001b[0;34m:\u001b[0m\u001b[0;34m\u001b[0m\u001b[0;34m\u001b[0m\u001b[0m\n\u001b[0;32m-> 1098\u001b[0;31m                 \u001b[0mself\u001b[0m\u001b[0;34m.\u001b[0m\u001b[0mretrieve\u001b[0m\u001b[0;34m(\u001b[0m\u001b[0;34m)\u001b[0m\u001b[0;34m\u001b[0m\u001b[0;34m\u001b[0m\u001b[0m\n\u001b[0m\u001b[1;32m   1099\u001b[0m             \u001b[0;31m# Make sure that we get a last message telling us we are done\u001b[0m\u001b[0;34m\u001b[0m\u001b[0;34m\u001b[0m\u001b[0m\n\u001b[1;32m   1100\u001b[0m             \u001b[0melapsed_time\u001b[0m \u001b[0;34m=\u001b[0m \u001b[0mtime\u001b[0m\u001b[0;34m.\u001b[0m\u001b[0mtime\u001b[0m\u001b[0;34m(\u001b[0m\u001b[0;34m)\u001b[0m \u001b[0;34m-\u001b[0m \u001b[0mself\u001b[0m\u001b[0;34m.\u001b[0m\u001b[0m_start_time\u001b[0m\u001b[0;34m\u001b[0m\u001b[0;34m\u001b[0m\u001b[0m\n",
      "\u001b[0;32m/usr/local/lib/python3.10/dist-packages/joblib/parallel.py\u001b[0m in \u001b[0;36mretrieve\u001b[0;34m(self)\u001b[0m\n\u001b[1;32m    973\u001b[0m             \u001b[0;32mtry\u001b[0m\u001b[0;34m:\u001b[0m\u001b[0;34m\u001b[0m\u001b[0;34m\u001b[0m\u001b[0m\n\u001b[1;32m    974\u001b[0m                 \u001b[0;32mif\u001b[0m \u001b[0mgetattr\u001b[0m\u001b[0;34m(\u001b[0m\u001b[0mself\u001b[0m\u001b[0;34m.\u001b[0m\u001b[0m_backend\u001b[0m\u001b[0;34m,\u001b[0m \u001b[0;34m'supports_timeout'\u001b[0m\u001b[0;34m,\u001b[0m \u001b[0;32mFalse\u001b[0m\u001b[0;34m)\u001b[0m\u001b[0;34m:\u001b[0m\u001b[0;34m\u001b[0m\u001b[0;34m\u001b[0m\u001b[0m\n\u001b[0;32m--> 975\u001b[0;31m                     \u001b[0mself\u001b[0m\u001b[0;34m.\u001b[0m\u001b[0m_output\u001b[0m\u001b[0;34m.\u001b[0m\u001b[0mextend\u001b[0m\u001b[0;34m(\u001b[0m\u001b[0mjob\u001b[0m\u001b[0;34m.\u001b[0m\u001b[0mget\u001b[0m\u001b[0;34m(\u001b[0m\u001b[0mtimeout\u001b[0m\u001b[0;34m=\u001b[0m\u001b[0mself\u001b[0m\u001b[0;34m.\u001b[0m\u001b[0mtimeout\u001b[0m\u001b[0;34m)\u001b[0m\u001b[0;34m)\u001b[0m\u001b[0;34m\u001b[0m\u001b[0;34m\u001b[0m\u001b[0m\n\u001b[0m\u001b[1;32m    976\u001b[0m                 \u001b[0;32melse\u001b[0m\u001b[0;34m:\u001b[0m\u001b[0;34m\u001b[0m\u001b[0;34m\u001b[0m\u001b[0m\n\u001b[1;32m    977\u001b[0m                     \u001b[0mself\u001b[0m\u001b[0;34m.\u001b[0m\u001b[0m_output\u001b[0m\u001b[0;34m.\u001b[0m\u001b[0mextend\u001b[0m\u001b[0;34m(\u001b[0m\u001b[0mjob\u001b[0m\u001b[0;34m.\u001b[0m\u001b[0mget\u001b[0m\u001b[0;34m(\u001b[0m\u001b[0;34m)\u001b[0m\u001b[0;34m)\u001b[0m\u001b[0;34m\u001b[0m\u001b[0;34m\u001b[0m\u001b[0m\n",
      "\u001b[0;32m/usr/local/lib/python3.10/dist-packages/joblib/_parallel_backends.py\u001b[0m in \u001b[0;36mwrap_future_result\u001b[0;34m(future, timeout)\u001b[0m\n\u001b[1;32m    565\u001b[0m         AsyncResults.get from multiprocessing.\"\"\"\n\u001b[1;32m    566\u001b[0m         \u001b[0;32mtry\u001b[0m\u001b[0;34m:\u001b[0m\u001b[0;34m\u001b[0m\u001b[0;34m\u001b[0m\u001b[0m\n\u001b[0;32m--> 567\u001b[0;31m             \u001b[0;32mreturn\u001b[0m \u001b[0mfuture\u001b[0m\u001b[0;34m.\u001b[0m\u001b[0mresult\u001b[0m\u001b[0;34m(\u001b[0m\u001b[0mtimeout\u001b[0m\u001b[0;34m=\u001b[0m\u001b[0mtimeout\u001b[0m\u001b[0;34m)\u001b[0m\u001b[0;34m\u001b[0m\u001b[0;34m\u001b[0m\u001b[0m\n\u001b[0m\u001b[1;32m    568\u001b[0m         \u001b[0;32mexcept\u001b[0m \u001b[0mCfTimeoutError\u001b[0m \u001b[0;32mas\u001b[0m \u001b[0me\u001b[0m\u001b[0;34m:\u001b[0m\u001b[0;34m\u001b[0m\u001b[0;34m\u001b[0m\u001b[0m\n\u001b[1;32m    569\u001b[0m             \u001b[0;32mraise\u001b[0m \u001b[0mTimeoutError\u001b[0m \u001b[0;32mfrom\u001b[0m \u001b[0me\u001b[0m\u001b[0;34m\u001b[0m\u001b[0;34m\u001b[0m\u001b[0m\n",
      "\u001b[0;32m/usr/lib/python3.10/concurrent/futures/_base.py\u001b[0m in \u001b[0;36mresult\u001b[0;34m(self, timeout)\u001b[0m\n\u001b[1;32m    451\u001b[0m                     \u001b[0;32mreturn\u001b[0m \u001b[0mself\u001b[0m\u001b[0;34m.\u001b[0m\u001b[0m__get_result\u001b[0m\u001b[0;34m(\u001b[0m\u001b[0;34m)\u001b[0m\u001b[0;34m\u001b[0m\u001b[0;34m\u001b[0m\u001b[0m\n\u001b[1;32m    452\u001b[0m \u001b[0;34m\u001b[0m\u001b[0m\n\u001b[0;32m--> 453\u001b[0;31m                 \u001b[0mself\u001b[0m\u001b[0;34m.\u001b[0m\u001b[0m_condition\u001b[0m\u001b[0;34m.\u001b[0m\u001b[0mwait\u001b[0m\u001b[0;34m(\u001b[0m\u001b[0mtimeout\u001b[0m\u001b[0;34m)\u001b[0m\u001b[0;34m\u001b[0m\u001b[0;34m\u001b[0m\u001b[0m\n\u001b[0m\u001b[1;32m    454\u001b[0m \u001b[0;34m\u001b[0m\u001b[0m\n\u001b[1;32m    455\u001b[0m                 \u001b[0;32mif\u001b[0m \u001b[0mself\u001b[0m\u001b[0;34m.\u001b[0m\u001b[0m_state\u001b[0m \u001b[0;32min\u001b[0m \u001b[0;34m[\u001b[0m\u001b[0mCANCELLED\u001b[0m\u001b[0;34m,\u001b[0m \u001b[0mCANCELLED_AND_NOTIFIED\u001b[0m\u001b[0;34m]\u001b[0m\u001b[0;34m:\u001b[0m\u001b[0;34m\u001b[0m\u001b[0;34m\u001b[0m\u001b[0m\n",
      "\u001b[0;32m/usr/lib/python3.10/threading.py\u001b[0m in \u001b[0;36mwait\u001b[0;34m(self, timeout)\u001b[0m\n\u001b[1;32m    318\u001b[0m         \u001b[0;32mtry\u001b[0m\u001b[0;34m:\u001b[0m    \u001b[0;31m# restore state no matter what (e.g., KeyboardInterrupt)\u001b[0m\u001b[0;34m\u001b[0m\u001b[0;34m\u001b[0m\u001b[0m\n\u001b[1;32m    319\u001b[0m             \u001b[0;32mif\u001b[0m \u001b[0mtimeout\u001b[0m \u001b[0;32mis\u001b[0m \u001b[0;32mNone\u001b[0m\u001b[0;34m:\u001b[0m\u001b[0;34m\u001b[0m\u001b[0;34m\u001b[0m\u001b[0m\n\u001b[0;32m--> 320\u001b[0;31m                 \u001b[0mwaiter\u001b[0m\u001b[0;34m.\u001b[0m\u001b[0macquire\u001b[0m\u001b[0;34m(\u001b[0m\u001b[0;34m)\u001b[0m\u001b[0;34m\u001b[0m\u001b[0;34m\u001b[0m\u001b[0m\n\u001b[0m\u001b[1;32m    321\u001b[0m                 \u001b[0mgotit\u001b[0m \u001b[0;34m=\u001b[0m \u001b[0;32mTrue\u001b[0m\u001b[0;34m\u001b[0m\u001b[0;34m\u001b[0m\u001b[0m\n\u001b[1;32m    322\u001b[0m             \u001b[0;32melse\u001b[0m\u001b[0;34m:\u001b[0m\u001b[0;34m\u001b[0m\u001b[0;34m\u001b[0m\u001b[0m\n",
      "\u001b[0;31mKeyboardInterrupt\u001b[0m: "
     ]
    }
   ],
   "source": [
    "param_grid = {\n",
    "    'n_estimators': [100, 200, 300, 400],\n",
    "    'learning_rate': [0.01, 0.05, 0.1],\n",
    "    'max_depth': [3, 4, 5, 6, 7, 10],\n",
    "    'subsample': [0.8, 0.9, 1]\n",
    "}\n",
    "\n",
    "gbc = GradientBoostingClassifier(random_state=42)\n",
    "\n",
    "grid_search = GridSearchCV(estimator=gbc, param_grid=param_grid, cv=3, n_jobs=-1)\n",
    "grid_search.fit(X_train, y_train)\n",
    "best_params = grid_search.best_params_\n",
    "print(\"Best Parameters:\", best_params)\n",
    "\n",
    "# Create GradientBoostingClassifier with the best parameters\n",
    "gbc = GradientBoostingClassifier(**best_params, random_state=42)\n",
    "\n",
    "# Fit the model to the training data\n",
    "gbc.fit(X_train, y_train)"
   ]
  },
  {
   "cell_type": "markdown",
   "metadata": {
    "id": "ZGppO-D6XiPj"
   },
   "source": [
    "# Evaluation"
   ]
  },
  {
   "cell_type": "code",
   "execution_count": null,
   "metadata": {
    "id": "DN0gjVHV0c6Q"
   },
   "outputs": [],
   "source": [
    "#@title Evaluating the Gradient Boost model\n",
    "y_hat = gbc.predict(X_train) # Predict the response for train dataset\n",
    "y_pred = gbc.predict(X_test) # Predict the response for test dataset\n",
    "y_pred_proba = gbc.predict_proba(X_test) # Predicted probabilities of the target classes from a classifier.\n",
    "\n",
    "# Compute training and test accuracy\n",
    "print(\"Train Accuracy:\", metrics.accuracy_score(y_train, y_hat))\n",
    "print(\"Test Accuracy:\", metrics.accuracy_score(y_test, y_pred))\n",
    "\n",
    "# Compute F1-score\n",
    "print(\"Train F1-Score:\", f1_score(y_train, y_hat))\n",
    "print(\"Test F1-Score:\", f1_score(y_test, y_pred))\n",
    "\n",
    "print(metrics.confusion_matrix(y_test, y_pred))\n",
    "print(metrics.classification_report(y_test, y_pred))\n",
    "y_pred_proba = gbc.predict_proba(X_test)[::,1]\n",
    "fpr, tpr, _ = metrics.roc_curve(y_test,  y_pred_proba)\n",
    "auc = metrics.roc_auc_score(y_test, y_pred_proba)\n",
    "print(\"AUC:\", auc)\n",
    "\n",
    "scores = cross_val_score(gbc, X_train, y_train, cv=6)\n",
    "print(\"Cross-Validation Accuracy Scores:\", scores)"
   ]
  },
  {
   "cell_type": "code",
   "execution_count": null,
   "metadata": {
    "id": "5nycoA-41NAB"
   },
   "outputs": [],
   "source": [
    "# Create a DataFrame to store the evaluation metrics\n",
    "metrics_table = pd.DataFrame(columns=['Model', 'Train Accuracy', 'Test Accuracy', 'Train F1-Score', 'Test F1-Score', 'Precision', 'Recall', 'AUC', 'AUPRC'])\n",
    "\n",
    "# Define the models\n",
    "models = {\n",
    "    'gbc': gbc,\n",
    "}\n",
    "\n",
    "# Compute and populate the evaluation metrics for each model\n",
    "for model_name, model in models.items():\n",
    "    # Predict the response for train dataset\n",
    "    y_hat = model.predict(X_train)\n",
    "    # Predict the response for test dataset\n",
    "    y_pred = model.predict(X_test)\n",
    "    # Predicted probabilities of the target classes from a classifier\n",
    "    y_pred_proba = model.predict_proba(X_test)[:, 1]\n",
    "\n",
    "    # Compute the evaluation metrics\n",
    "    train_accuracy = metrics.accuracy_score(y_train, y_hat)\n",
    "    test_accuracy = metrics.accuracy_score(y_test, y_pred)\n",
    "    train_f1_score = metrics.f1_score(y_train, y_hat)\n",
    "    test_f1_score = metrics.f1_score(y_test, y_pred)\n",
    "    precision = metrics.precision_score(y_test, y_pred)\n",
    "    recall = metrics.recall_score(y_test, y_pred)\n",
    "    auc = metrics.roc_auc_score(y_test, y_pred_proba)\n",
    "    auprc = average_precision_score(y_test, y_pred_proba)\n",
    "\n",
    "    # Compute the confusion matrix\n",
    "    confusion_mat = metrics.confusion_matrix(y_test, y_pred)\n",
    "\n",
    "    # Add the metrics to the table\n",
    "    metrics_table = metrics_table.append({\n",
    "        'Model': model_name,\n",
    "        'Train Accuracy': train_accuracy,\n",
    "        'Test Accuracy': test_accuracy,\n",
    "        'Train F1-Score': train_f1_score,\n",
    "        'Test F1-Score': test_f1_score,\n",
    "        'Precision': precision,\n",
    "        'Recall': recall,\n",
    "        'AUC': auc,\n",
    "        'AUPRC': auprc\n",
    "    }, ignore_index=True)\n",
    "\n",
    "    # Print the confusion matrix\n",
    "    print(f\"Confusion Matrix for {model_name}:\")\n",
    "    print(confusion_mat)\n",
    "    print()\n",
    "\n",
    "    # Print the additional evaluation metrics\n",
    "    print(\"Train Accuracy:\", train_accuracy)\n",
    "    print(\"Test Accuracy:\", test_accuracy)\n",
    "    print(\"Train F1-Score:\", train_f1_score)\n",
    "    print(\"Test F1-Score:\", test_f1_score)\n",
    "    print(\"Precision:\", precision)\n",
    "    print(\"Recall:\", recall)\n",
    "    print(metrics.classification_report(y_test, y_pred))\n",
    "    print(\"AUC:\", auc)\n",
    "    print(\"AUPRC:\", auprc)\n",
    "    print()\n",
    "\n",
    "    # Plot ROC curve\n",
    "    fpr, tpr, _ = metrics.roc_curve(y_test, y_pred_proba)\n",
    "    plt.plot(fpr, tpr, label=f'{model_name} (AUC = {auc:.2f})')\n",
    "\n",
    "# Plot the diagonal line\n",
    "plt.plot([0, 1], [0, 1], 'k--')\n",
    "\n",
    "# Set labels and title\n",
    "plt.xlabel('False Positive Rate')\n",
    "plt.ylabel('True Positive Rate')\n",
    "plt.title('Receiver Operating Characteristic')\n",
    "\n",
    "# Set legend\n",
    "plt.legend()\n",
    "\n",
    "# Show the plot\n",
    "plt.show()\n",
    "\n",
    "# Display the comparison table\n",
    "print(tabulate(metrics_table, headers='keys', tablefmt='github'))"
   ]
  },
  {
   "cell_type": "markdown",
   "metadata": {
    "id": "l7UconQ2XcaT"
   },
   "source": [
    "# Conclusion"
   ]
  }
 ],
 "metadata": {
  "colab": {
   "provenance": [],
   "toc_visible": true
  },
  "kernelspec": {
   "display_name": "Python 3 (ipykernel)",
   "language": "python",
   "name": "python3"
  },
  "language_info": {
   "codemirror_mode": {
    "name": "ipython",
    "version": 3
   },
   "file_extension": ".py",
   "mimetype": "text/x-python",
   "name": "python",
   "nbconvert_exporter": "python",
   "pygments_lexer": "ipython3",
   "version": "3.10.11"
  }
 },
 "nbformat": 4,
 "nbformat_minor": 4
}
